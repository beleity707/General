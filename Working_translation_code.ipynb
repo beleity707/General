{
 "cells": [
  {
   "cell_type": "code",
   "execution_count": 14,
   "metadata": {},
   "outputs": [],
   "source": [
    "# -*- coding: utf-8 -*- \n",
    "import os\n",
    "import sys\n",
    "from google.cloud import translate, storage\n",
    "\n",
    "os.environ[\"GOOGLE_APPLICATION_CREDENTIALS\"]=\"Billy_Translate.json\"\n",
    "\n",
    "# https://stackoverflow.com/questions/51137714/how-to-list-buckets-from-google-storage-in-python\n",
    "# https://cloud.google.com/translate/docs/advanced/translating-text-v3#translating_text\n",
    "# https://support.serverdensity.com/hc/en-us/articles/360001084286-How-to-find-your-Google-Cloud-project-ID\n",
    "# https://pythonprogramming.net/translation-api-google-cloud-tutorial/"
   ]
  },
  {
   "cell_type": "code",
   "execution_count": 15,
   "metadata": {},
   "outputs": [
    {
     "name": "stdout",
     "output_type": "stream",
     "text": [
      "Billy_Translate.json\n"
     ]
    }
   ],
   "source": [
    "print(os.environ['GOOGLE_APPLICATION_CREDENTIALS']) \n"
   ]
  },
  {
   "cell_type": "code",
   "execution_count": 16,
   "metadata": {},
   "outputs": [],
   "source": [
    "# Instantiates a client\n",
    "#storage_client = storage.Client()\n",
    "\n",
    "# List all the buckets available\n",
    "#for bucket in storage_client.list_buckets():\n",
    "#    print(bucket)"
   ]
  },
  {
   "cell_type": "code",
   "execution_count": 17,
   "metadata": {},
   "outputs": [],
   "source": [
    "def sample_translate_text(text=\"YOUR_TEXT_TO_TRANSLATE\", project_id=\"YOUR_PROJECT_ID\"):\n",
    "    \"\"\"Translating Text.\"\"\"\n",
    "\n",
    "    client = translate.TranslationServiceClient()\n",
    "\n",
    "    parent = client.location_path(project_id, \"global\")\n",
    "\n",
    "    # Detail on supported types can be found here:\n",
    "    # https://cloud.google.com/translate/docs/supported-formats\n",
    "    response = client.translate_text(\n",
    "        parent=parent,\n",
    "        contents=[text],\n",
    "        mime_type=\"text/plain\",  # mime types: text/plain, text/html\n",
    "        source_language_code=\"ar\",\n",
    "        target_language_code=\"en\",\n",
    "    )\n",
    "    # Display the translation for each input text provided\n",
    "    for translation in response.translations:\n",
    "        print(u\"Translated text: {}\".format(translation.translated_text))\n"
   ]
  },
  {
   "cell_type": "code",
   "execution_count": null,
   "metadata": {},
   "outputs": [],
   "source": []
  },
  {
   "cell_type": "code",
   "execution_count": 30,
   "metadata": {},
   "outputs": [
    {
     "name": "stdout",
     "output_type": "stream",
     "text": [
      "Translated text: The lack of potassium sulfate fertilizer and its high price\n"
     ]
    }
   ],
   "source": [
    "#example_text ='''Hola saludos desde Colombia excelentes tutoriales me gustaría poder por lo menos tener los subtitulos ene español ...excelente gracias por compartir tus conocimientos'''\n",
    "\n",
    "example_text ='''عدم توفر سماد سلفات البوتاسيوم وأرتفاع أسعاره'''\n",
    "sample_translate_text(text=example_text, project_id=\"my-project-1575343298570\")"
   ]
  },
  {
   "cell_type": "code",
   "execution_count": null,
   "metadata": {},
   "outputs": [],
   "source": []
  }
 ],
 "metadata": {
  "kernelspec": {
   "display_name": "Python 3",
   "language": "python",
   "name": "python3"
  },
  "language_info": {
   "codemirror_mode": {
    "name": "ipython",
    "version": 3
   },
   "file_extension": ".py",
   "mimetype": "text/x-python",
   "name": "python",
   "nbconvert_exporter": "python",
   "pygments_lexer": "ipython3",
   "version": "3.7.1"
  }
 },
 "nbformat": 4,
 "nbformat_minor": 4
}
