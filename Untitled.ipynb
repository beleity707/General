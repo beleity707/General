{
 "cells": [
  {
   "cell_type": "code",
   "execution_count": 7,
   "metadata": {},
   "outputs": [],
   "source": [
    "from sklearn.feature_extraction.text import TfidfVectorizer\n",
    "import numpy as np"
   ]
  },
  {
   "cell_type": "code",
   "execution_count": 8,
   "metadata": {},
   "outputs": [],
   "source": [
    "# each phrase here could be document in your list \n",
    "# of documents\n",
    "my_phrases = [\"boring answer phrase\",\n",
    "              \"exciting phrase\",\n",
    "              \"phrase on stackoverflow\",\n",
    "              \"answer on stackoverflow\"]\n"
   ]
  },
  {
   "cell_type": "code",
   "execution_count": 9,
   "metadata": {},
   "outputs": [],
   "source": [
    "#  and you want to find the most similar document\n",
    "#  to this document             \n",
    "phrase = [\"stackoverflow answer\"]\n"
   ]
  },
  {
   "cell_type": "code",
   "execution_count": 10,
   "metadata": {},
   "outputs": [],
   "source": [
    "\n",
    "# You could do it like this:\n",
    "vectorizer = TfidfVectorizer(min_df=1, stop_words='english')\n",
    "all_phrases = phrase + my_phrases\n",
    "my_features = vectorizer.fit_transform(all_phrases)\n",
    "scores = (my_features[0, :] * my_features[1:, :].T).A[0]\n",
    "best_score = np.argmax(scores)\n",
    "answer = my_phrases[best_score]"
   ]
  },
  {
   "cell_type": "code",
   "execution_count": null,
   "metadata": {},
   "outputs": [],
   "source": []
  },
  {
   "cell_type": "code",
   "execution_count": null,
   "metadata": {},
   "outputs": [],
   "source": []
  }
 ],
 "metadata": {
  "kernelspec": {
   "display_name": "Python 3",
   "language": "python",
   "name": "python3"
  },
  "language_info": {
   "codemirror_mode": {
    "name": "ipython",
    "version": 3
   },
   "file_extension": ".py",
   "mimetype": "text/x-python",
   "name": "python",
   "nbconvert_exporter": "python",
   "pygments_lexer": "ipython3",
   "version": "3.6.5"
  }
 },
 "nbformat": 4,
 "nbformat_minor": 2
}
