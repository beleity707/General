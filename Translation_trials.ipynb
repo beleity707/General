{
 "cells": [
  {
   "cell_type": "markdown",
   "metadata": {},
   "source": [
    "<b>Case 1 </b><br>\n",
    "systran"
   ]
  },
  {
   "cell_type": "code",
   "execution_count": null,
   "metadata": {},
   "outputs": [],
   "source": [
    "# https://translate.systran.net/translationTools/text?lang=en"
   ]
  },
  {
   "cell_type": "markdown",
   "metadata": {},
   "source": [
    "<b><font color= red>Observation:</b>  Not accurate enough, need to test other applications"
   ]
  },
  {
   "cell_type": "code",
   "execution_count": 48,
   "metadata": {
    "scrolled": true
   },
   "outputs": [
    {
     "name": "stdout",
     "output_type": "stream",
     "text": [
      "Requirement already satisfied: translate in c:\\users\\user\\anaconda3\\lib\\site-packages (3.5.0)\n",
      "Requirement already satisfied: pre-commit in c:\\users\\user\\anaconda3\\lib\\site-packages (from translate) (2.2.0)\n",
      "Requirement already satisfied: lxml in c:\\users\\user\\anaconda3\\lib\\site-packages (from translate) (4.5.0)\n",
      "Requirement already satisfied: requests in c:\\users\\user\\anaconda3\\lib\\site-packages (from translate) (2.23.0)\n",
      "Requirement already satisfied: tox in c:\\users\\user\\anaconda3\\lib\\site-packages (from translate) (3.14.6)\n",
      "Requirement already satisfied: click in c:\\users\\user\\anaconda3\\lib\\site-packages (from translate) (7.0)\n",
      "Requirement already satisfied: nodeenv>=0.11.1 in c:\\users\\user\\anaconda3\\lib\\site-packages (from pre-commit->translate) (1.3.5)\n",
      "Requirement already satisfied: pyyaml>=5.1 in c:\\users\\user\\anaconda3\\lib\\site-packages (from pre-commit->translate) (5.3)\n",
      "Requirement already satisfied: importlib-metadata; python_version < \"3.8\" in c:\\users\\user\\anaconda3\\lib\\site-packages (from pre-commit->translate) (1.5.0)\n",
      "Requirement already satisfied: toml in c:\\users\\user\\anaconda3\\lib\\site-packages (from pre-commit->translate) (0.10.0)\n",
      "Requirement already satisfied: identify>=1.0.0 in c:\\users\\user\\anaconda3\\lib\\site-packages (from pre-commit->translate) (1.4.13)\n",
      "Requirement already satisfied: virtualenv>=15.2 in c:\\users\\user\\anaconda3\\lib\\site-packages (from pre-commit->translate) (20.0.15)\n",
      "Requirement already satisfied: cfgv>=2.0.0 in c:\\users\\user\\anaconda3\\lib\\site-packages (from pre-commit->translate) (3.1.0)\n",
      "Requirement already satisfied: urllib3!=1.25.0,!=1.25.1,<1.26,>=1.21.1 in c:\\users\\user\\anaconda3\\lib\\site-packages (from requests->translate) (1.25.8)\n",
      "Requirement already satisfied: chardet<4,>=3.0.2 in c:\\users\\user\\anaconda3\\lib\\site-packages (from requests->translate) (3.0.4)\n",
      "Requirement already satisfied: idna<3,>=2.5 in c:\\users\\user\\anaconda3\\lib\\site-packages (from requests->translate) (2.9)\n",
      "Requirement already satisfied: certifi>=2017.4.17 in c:\\users\\user\\anaconda3\\lib\\site-packages (from requests->translate) (2019.11.28)\n",
      "Requirement already satisfied: packaging>=14 in c:\\users\\user\\anaconda3\\lib\\site-packages (from tox->translate) (20.1)\n",
      "Requirement already satisfied: py<2,>=1.4.17 in c:\\users\\user\\anaconda3\\lib\\site-packages (from tox->translate) (1.8.1)\n",
      "Requirement already satisfied: six<2,>=1.14.0 in c:\\users\\user\\anaconda3\\lib\\site-packages (from tox->translate) (1.14.0)\n",
      "Requirement already satisfied: pluggy<1,>=0.12.0 in c:\\users\\user\\anaconda3\\lib\\site-packages (from tox->translate) (0.13.1)\n",
      "Requirement already satisfied: filelock<4,>=3.0.0 in c:\\users\\user\\anaconda3\\lib\\site-packages (from tox->translate) (3.0.12)\n",
      "Requirement already satisfied: colorama>=0.4.1; platform_system == \"Windows\" in c:\\users\\user\\anaconda3\\lib\\site-packages (from tox->translate) (0.4.3)\n",
      "Requirement already satisfied: zipp>=0.5 in c:\\users\\user\\anaconda3\\lib\\site-packages (from importlib-metadata; python_version < \"3.8\"->pre-commit->translate) (2.2.0)\n",
      "Requirement already satisfied: distlib<1,>=0.3.0 in c:\\users\\user\\anaconda3\\lib\\site-packages (from virtualenv>=15.2->pre-commit->translate) (0.3.0)\n",
      "Requirement already satisfied: appdirs<2,>=1.4.3 in c:\\users\\user\\anaconda3\\lib\\site-packages (from virtualenv>=15.2->pre-commit->translate) (1.4.3)\n",
      "Requirement already satisfied: pyparsing>=2.0.2 in c:\\users\\user\\anaconda3\\lib\\site-packages (from packaging>=14->tox->translate) (2.4.6)\n",
      "Note: you may need to restart the kernel to use updated packages.\n"
     ]
    }
   ],
   "source": [
    "pip install translate"
   ]
  },
  {
   "cell_type": "markdown",
   "metadata": {},
   "source": [
    "<b>Case 2</b><br>\n",
    "Translate library"
   ]
  },
  {
   "cell_type": "code",
   "execution_count": 91,
   "metadata": {},
   "outputs": [],
   "source": [
    "from translate import Translator\n",
    "translator= Translator(to_lang=\"fr\")\n"
   ]
  },
  {
   "cell_type": "code",
   "execution_count": 92,
   "metadata": {
    "scrolled": true
   },
   "outputs": [
    {
     "data": {
      "text/plain": [
       "\"C'est un stylo\""
      ]
     },
     "execution_count": 92,
     "metadata": {},
     "output_type": "execute_result"
    }
   ],
   "source": [
    "translation = translator.translate(\"This is a pen.\")\n",
    "translation"
   ]
  },
  {
   "cell_type": "code",
   "execution_count": 93,
   "metadata": {},
   "outputs": [
    {
     "data": {
      "text/plain": [
       "'....'"
      ]
     },
     "execution_count": 93,
     "metadata": {},
     "output_type": "execute_result"
    }
   ],
   "source": [
    "translator= Translator(to_lang=\"ar\")\n",
    "\n",
    "\n",
    "translation = translator.translate(\"This is a pen.\")\n",
    "translation\n"
   ]
  },
  {
   "cell_type": "markdown",
   "metadata": {},
   "source": [
    "<b><font color= red>Observation:</b>  Has no arabic language"
   ]
  },
  {
   "cell_type": "code",
   "execution_count": null,
   "metadata": {},
   "outputs": [],
   "source": [
    "# py-translate didn't work\n",
    "#https://pythonhosted.org/py-translate/devs/api.html"
   ]
  },
  {
   "cell_type": "markdown",
   "metadata": {},
   "source": [
    "<b>Case 3</b><br>\n",
    "googletrans (Free Edition)"
   ]
  },
  {
   "cell_type": "code",
   "execution_count": 86,
   "metadata": {},
   "outputs": [],
   "source": [
    "import pandas as pd\n",
    "import re\n",
    "re.compile('<title>(.*)</title>')\n",
    "\n",
    "import googletrans\n",
    "from googletrans import Translator\n"
   ]
  },
  {
   "cell_type": "code",
   "execution_count": 87,
   "metadata": {},
   "outputs": [],
   "source": [
    "translator = Translator()"
   ]
  },
  {
   "cell_type": "code",
   "execution_count": 4,
   "metadata": {},
   "outputs": [],
   "source": [
    "dat = pd.read_excel(\"data.xlsx\")\n",
    "Filter = pd.read_excel(\"Filter.xlsx\")"
   ]
  },
  {
   "cell_type": "code",
   "execution_count": 5,
   "metadata": {},
   "outputs": [],
   "source": [
    "dat['Text'] = dat['Text'].astype(str)\n",
    "Filter['search'] = Filter['search'].astype(str)\n",
    "Filter['replace'] = Filter['replace'].astype(str)\n"
   ]
  },
  {
   "cell_type": "code",
   "execution_count": 6,
   "metadata": {},
   "outputs": [],
   "source": [
    "# Clean & Normalize Arabic Text\n",
    "def clean_str(text):\n",
    "    \n",
    "    search = Filter['search'].values.tolist()\n",
    "    replace = Filter['replace'].values.tolist()\n",
    "    \n",
    "    p_tashkeel = re.compile(r'[\\u0617-\\u061A\\u064B-\\u0652]')\n",
    "    text = re.sub(p_tashkeel,\"\", text)\n",
    "    \n",
    "    p_longation = re.compile(r'(.)\\1+')\n",
    "    subst = r\"\\1\\1\"\n",
    "    text = re.sub(p_longation, subst, text)\n",
    "    \n",
    "    text = text.replace('وو', 'و')\n",
    "    text = text.replace('يي', 'ي')\n",
    "    text = text.replace('اا', 'ا')\n",
    "    \n",
    "    for i in range(0, len(search)):\n",
    "        text = text.replace(search[i], replace[i])\n",
    "    \n",
    "    text = text.strip()\n",
    "    return text"
   ]
  },
  {
   "cell_type": "code",
   "execution_count": 7,
   "metadata": {},
   "outputs": [
    {
     "data": {
      "text/plain": [
       "0    احمرار وظهور تبقع بنى فى الاوراق                 \n",
       "1          كيفية علاج الثاقبات بالارز                 \n",
       "2          كيفية علاج الثاقبات بالارز                 \n",
       "3    كيفية علاج زيادة النمو الخضرى الغزير بنبات الق...\n",
       "4    اصفرار بعض الاوراق لبعض النباتات وتساقطها     ...\n",
       "5    عدم توفر الاسمدة ونقصها يؤثر سلبا على المحصول ...\n",
       "6    عدم وصول المياه لنهايات الترع الفرعية         ...\n",
       "7    عدم وصول مياه الرى لنهايات الترع الفرعية فترة ...\n",
       "8    عدم توفر سماد سلفات البوتاسيوم وارتفاع اسعاره ...\n",
       "9    شكوى بعض المزارعين بقرية اريمون من تنفيذ مشروع...\n",
       "Name: Text, dtype: object"
      ]
     },
     "execution_count": 7,
     "metadata": {},
     "output_type": "execute_result"
    }
   ],
   "source": [
    "#search[:2]\n",
    "dat['Text'][:10]"
   ]
  },
  {
   "cell_type": "code",
   "execution_count": 15,
   "metadata": {},
   "outputs": [
    {
     "name": "stdout",
     "output_type": "stream",
     "text": [
      "اصفرار بعض الاوراق فى بعض النباتات وتساقطها\n"
     ]
    },
    {
     "data": {
      "text/plain": [
       "'Some yellowing of the leaves in some plants and Fallen'"
      ]
     },
     "execution_count": 15,
     "metadata": {},
     "output_type": "execute_result"
    }
   ],
   "source": [
    "#a = clean_str('احمرار وظهور تبقع بنى فى الاوراق')\n",
    "i  = 4\n",
    "#dat['Text'].iloc[i]\n",
    "a = clean_str(dat['Text'].iloc[i])\n",
    "print (a)\n",
    "result  = translator.translate(a,src ='ar')\n",
    "result.text"
   ]
  },
  {
   "cell_type": "code",
   "execution_count": 14,
   "metadata": {
    "scrolled": true
   },
   "outputs": [
    {
     "name": "stdout",
     "output_type": "stream",
     "text": [
      "عدم وصول مياه الري لنهايات الترع الفرعية فتره زراعه المشاتل وشتل الارز\n"
     ]
    },
    {
     "data": {
      "text/plain": [
       "'Lack of access irrigation water to the ends of the canals during the planting period sub nurseries and transplanting rice'"
      ]
     },
     "execution_count": 14,
     "metadata": {},
     "output_type": "execute_result"
    }
   ],
   "source": [
    "i  = 7\n",
    "a = clean_str(dat['Text'].iloc[i])\n",
    "\n",
    "print (a)\n",
    "translator = Translator()\n",
    "result_test  = translator.translate(test,src ='ar')\n",
    "result_test.text"
   ]
  },
  {
   "cell_type": "markdown",
   "metadata": {},
   "source": [
    " "
   ]
  },
  {
   "cell_type": "markdown",
   "metadata": {},
   "source": [
    "<b><font color= red>Observation:</b> Better than systran but still not accurate enough"
   ]
  },
  {
   "cell_type": "markdown",
   "metadata": {},
   "source": [
    " "
   ]
  },
  {
   "cell_type": "markdown",
   "metadata": {},
   "source": [
    "<b>Case 4</b><br>\n",
    "google.cloud translator (paid service)"
   ]
  },
  {
   "cell_type": "code",
   "execution_count": null,
   "metadata": {},
   "outputs": [],
   "source": [
    "# -*- coding: utf-8 -*- \n",
    "import os\n",
    "import sys\n",
    "from google.cloud import translate, storage\n",
    "\n",
    "os.environ[\"GOOGLE_APPLICATION_CREDENTIALS\"]=\"Billy_Translate.json\"\n",
    "\n",
    "# https://stackoverflow.com/questions/51137714/how-to-list-buckets-from-google-storage-in-python\n",
    "# https://cloud.google.com/translate/docs/advanced/translating-text-v3#translating_text\n",
    "# https://support.serverdensity.com/hc/en-us/articles/360001084286-How-to-find-your-Google-Cloud-project-ID\n",
    "# https://pythonprogramming.net/translation-api-google-cloud-tutorial/"
   ]
  },
  {
   "cell_type": "code",
   "execution_count": 15,
   "metadata": {},
   "outputs": [
    {
     "name": "stdout",
     "output_type": "stream",
     "text": [
      "Billy_Translate.json\n"
     ]
    }
   ],
   "source": [
    "print(os.environ['GOOGLE_APPLICATION_CREDENTIALS']) \n"
   ]
  },
  {
   "cell_type": "code",
   "execution_count": 16,
   "metadata": {},
   "outputs": [],
   "source": [
    "# Instantiates a client\n",
    "#storage_client = storage.Client()\n",
    "\n",
    "# List all the buckets available\n",
    "#for bucket in storage_client.list_buckets():\n",
    "#    print(bucket)"
   ]
  },
  {
   "cell_type": "code",
   "execution_count": 17,
   "metadata": {},
   "outputs": [],
   "source": [
    "def sample_translate_text(text=\"YOUR_TEXT_TO_TRANSLATE\", project_id=\"YOUR_PROJECT_ID\"):\n",
    "    \"\"\"Translating Text.\"\"\"\n",
    "\n",
    "    client = translate.TranslationServiceClient()\n",
    "\n",
    "    parent = client.location_path(project_id, \"global\")\n",
    "\n",
    "    # Detail on supported types can be found here:\n",
    "    # https://cloud.google.com/translate/docs/supported-formats\n",
    "    response = client.translate_text(\n",
    "        parent=parent,\n",
    "        contents=[text],\n",
    "        mime_type=\"text/plain\",  # mime types: text/plain, text/html\n",
    "        source_language_code=\"ar\",\n",
    "        target_language_code=\"en\",\n",
    "    )\n",
    "    # Display the translation for each input text provided\n",
    "    for translation in response.translations:\n",
    "        print(u\"Translated text: {}\".format(translation.translated_text))\n"
   ]
  },
  {
   "cell_type": "code",
   "execution_count": null,
   "metadata": {},
   "outputs": [],
   "source": []
  },
  {
   "cell_type": "code",
   "execution_count": 30,
   "metadata": {},
   "outputs": [
    {
     "name": "stdout",
     "output_type": "stream",
     "text": [
      "Translated text: The lack of potassium sulfate fertilizer and its high price\n"
     ]
    }
   ],
   "source": [
    "#example_text ='''Hola saludos desde Colombia excelentes tutoriales me gustaría poder por lo menos tener los subtitulos ene español ...excelente gracias por compartir tus conocimientos'''\n",
    "\n",
    "example_text ='''عدم توفر سماد سلفات البوتاسيوم وأرتفاع أسعاره'''\n",
    "sample_translate_text(text=example_text, project_id=\"my-project-1575343298570\")"
   ]
  },
  {
   "cell_type": "markdown",
   "metadata": {},
   "source": [
    "<b><font color= red>Observation:</b> High quality translation"
   ]
  },
  {
   "cell_type": "code",
   "execution_count": null,
   "metadata": {},
   "outputs": [],
   "source": []
  }
 ],
 "metadata": {
  "kernelspec": {
   "display_name": "Python 3",
   "language": "python",
   "name": "python3"
  },
  "language_info": {
   "codemirror_mode": {
    "name": "ipython",
    "version": 3
   },
   "file_extension": ".py",
   "mimetype": "text/x-python",
   "name": "python",
   "nbconvert_exporter": "python",
   "pygments_lexer": "ipython3",
   "version": "3.7.1"
  }
 },
 "nbformat": 4,
 "nbformat_minor": 4
}
